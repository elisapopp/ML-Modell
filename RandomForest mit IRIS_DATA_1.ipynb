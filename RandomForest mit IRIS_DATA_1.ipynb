{
  "metadata": {
    "kernelspec": {
      "name": "python3",
      "display_name": "Python 3",
      "language": "python"
    },
    "language_info": {
      "name": "python",
      "version": "3.6.8",
      "mimetype": "text/x-python",
      "codemirror_mode": {
        "name": "ipython",
        "version": 3
      },
      "pygments_lexer": "ipython3",
      "nbconvert_exporter": "python",
      "file_extension": ".py"
    },
    "name": "Predicting Label in IRIS_DATA",
    "hide_input": false,
    "modifiedBy": "admin"
  },
  "nbformat": 4,
  "nbformat_minor": 1,
  "cells": [
    {
      "cell_type": "markdown",
      "metadata": {},
      "source": [
        "# Predicting Label in IRIS_DATA with Random Forest"
      ]
    },
    {
      "cell_type": "markdown",
      "metadata": {},
      "source": [
        "Let\u0027s start with importing the required libs :"
      ]
    },
    {
      "execution_count": 36,
      "cell_type": "code",
      "metadata": {},
      "source": [
        "import sys\nimport numpy as np\nimport pandas as pd\nimport sklearn as sk\nfrom sklearn.model_selection import train_test_split\nfrom sklearn.ensemble import RandomForestClassifier\nfrom collections import defaultdict, Counter"
      ],
      "outputs": []
    },
    {
      "cell_type": "markdown",
      "metadata": {},
      "source": [
        "And tune pandas display options:"
      ]
    },
    {
      "execution_count": 32,
      "cell_type": "code",
      "metadata": {},
      "source": [
        "pd.set_option(\u0027display.width\u0027, 3000)\npd.set_option(\u0027display.max_rows\u0027, 200)\npd.set_option(\u0027display.max_columns\u0027, 200)"
      ],
      "outputs": []
    },
    {
      "cell_type": "markdown",
      "metadata": {},
      "source": [
        "#### Importing base data"
      ]
    },
    {
      "cell_type": "markdown",
      "metadata": {},
      "source": [
        "The first step is to get our machine learning dataset:"
      ]
    },
    {
      "execution_count": 34,
      "cell_type": "code",
      "metadata": {},
      "source": [
        "from sklearn.datasets import load_iris\nfrom sklearn import tree\niris\u003dload_iris()\ndf\u003dpd.DataFrame(iris.data, columns\u003diris.feature_names)\nprint(df.head())\ndf[\u0027target\u0027]\u003diris.target\n"
      ],
      "outputs": [
        {
          "output_type": "stream",
          "text": "   sepal length (cm)  sepal width (cm)  petal length (cm)  petal width (cm)\n0                5.1               3.5                1.4               0.2\n1                4.9               3.0                1.4               0.2\n2                4.7               3.2                1.3               0.2\n3                4.6               3.1                1.5               0.2\n4                5.0               3.6                1.4               0.2\n",
          "name": "stdout"
        }
      ]
    },
    {
      "cell_type": "markdown",
      "metadata": {},
      "source": [
        "#### Modeling"
      ]
    },
    {
      "cell_type": "markdown",
      "metadata": {},
      "source": [
        "Before actually creating our model, we need to split the datasets into their features and labels parts:"
      ]
    },
    {
      "execution_count": 37,
      "cell_type": "code",
      "metadata": {},
      "source": [
        "#train-test split\nX_train, X_test,y_train,y_test\u003dtrain_test_split(df.drop([\u0027target\u0027],axis\u003d\u0027columns\u0027),iris.target, test_size\u003d0.2)"
      ],
      "outputs": []
    },
    {
      "cell_type": "markdown",
      "metadata": {},
      "source": [
        "Now we can finally create our model!"
      ]
    },
    {
      "execution_count": 38,
      "cell_type": "code",
      "metadata": {},
      "source": [
        "from sklearn.ensemble import RandomForestClassifier\nclf \u003d RandomForestClassifier(n_estimators\u003d100,\n    random_state\u003d1337,\n    max_depth\u003d6,\n    min_samples_leaf\u003d1,\n    verbose\u003d2)"
      ],
      "outputs": []
    },
    {
      "cell_type": "markdown",
      "metadata": {},
      "source": [
        "We set \"class_weight\" as the weighting strategy:"
      ]
    },
    {
      "execution_count": 39,
      "cell_type": "code",
      "metadata": {},
      "source": [
        "clf.class_weight \u003d \"balanced\""
      ],
      "outputs": []
    },
    {
      "cell_type": "markdown",
      "metadata": {},
      "source": [
        "... And train the model"
      ]
    },
    {
      "execution_count": 40,
      "cell_type": "code",
      "metadata": {},
      "source": [
        "%time clf.fit(X_train, y_train)"
      ],
      "outputs": [
        {
          "output_type": "stream",
          "text": "building tree 1 of 100\nbuilding tree 2 of 100\nbuilding tree 3 of 100\nbuilding tree 4 of 100\nbuilding tree 5 of 100\nbuilding tree 6 of 100\nbuilding tree 7 of 100\nbuilding tree 8 of 100\nbuilding tree 9 of 100\nbuilding tree 10 of 100\nbuilding tree 11 of 100\nbuilding tree 12 of 100\nbuilding tree 13 of 100\nbuilding tree 14 of 100\nbuilding tree 15 of 100\nbuilding tree 16 of 100\nbuilding tree 17 of 100\nbuilding tree 18 of 100\nbuilding tree 19 of 100\nbuilding tree 20 of 100\nbuilding tree 21 of 100\nbuilding tree 22 of 100\nbuilding tree 23 of 100\nbuilding tree 24 of 100\nbuilding tree 25 of 100\nbuilding tree 26 of 100\nbuilding tree 27 of 100\nbuilding tree 28 of 100\nbuilding tree 29 of 100\nbuilding tree 30 of 100\nbuilding tree 31 of 100\nbuilding tree 32 of 100\nbuilding tree 33 of 100\nbuilding tree 34 of 100\nbuilding tree 35 of 100\nbuilding tree 36 of 100\nbuilding tree 37 of 100\nbuilding tree 38 of 100\nbuilding tree 39 of 100\nbuilding tree 40 of 100\nbuilding tree 41 of 100\nbuilding tree 42 of 100\nbuilding tree 43 of 100\nbuilding tree 44 of 100\nbuilding tree 45 of 100\nbuilding tree 46 of 100\nbuilding tree 47 of 100\nbuilding tree 48 of 100\nbuilding tree 49 of 100\nbuilding tree 50 of 100\nbuilding tree 51 of 100\nbuilding tree 52 of 100\nbuilding tree 53 of 100\nbuilding tree 54 of 100\nbuilding tree 55 of 100\nbuilding tree 56 of 100\nbuilding tree 57 of 100\nbuilding tree 58 of 100\nbuilding tree 59 of 100\nbuilding tree 60 of 100\nbuilding tree 61 of 100\nbuilding tree 62 of 100\nbuilding tree 63 of 100\nbuilding tree 64 of 100\nbuilding tree 65 of 100\nbuilding tree 66 of 100\nbuilding tree 67 of 100\nbuilding tree 68 of 100\nbuilding tree 69 of 100\nbuilding tree 70 of 100\nbuilding tree 71 of 100\nbuilding tree 72 of 100\nbuilding tree 73 of 100\nbuilding tree 74 of 100\nbuilding tree 75 of 100\nbuilding tree 76 of 100\nbuilding tree 77 of 100\nbuilding tree 78 of 100\nbuilding tree 79 of 100\nbuilding tree 80 of 100\nbuilding tree 81 of 100\nbuilding tree 82 of 100\nbuilding tree 83 of 100\nbuilding tree 84 of 100\nbuilding tree 85 of 100\nbuilding tree 86 of 100\nbuilding tree 87 of 100\nbuilding tree 88 of 100\nbuilding tree 89 of 100\nbuilding tree 90 of 100\nbuilding tree 91 of 100\nbuilding tree 92 of 100\nbuilding tree 93 of 100\nbuilding tree 94 of 100\nbuilding tree 95 of 100\nbuilding tree 96 of 100\nbuilding tree 97 of 100\nbuilding tree 98 of 100\nbuilding tree 99 of 100\nbuilding tree 100 of 100\nCPU times: user 91.7 ms, sys: 17.3 ms, total: 109 ms\nWall time: 95.6 ms\n",
          "name": "stdout"
        },
        {
          "output_type": "stream",
          "text": "[Parallel(n_jobs\u003d1)]: Using backend SequentialBackend with 1 concurrent workers.\n[Parallel(n_jobs\u003d1)]: Done   1 out of   1 | elapsed:    0.0s remaining:    0.0s\n[Parallel(n_jobs\u003d1)]: Done 100 out of 100 | elapsed:    0.1s finished\n",
          "name": "stderr"
        },
        {
          "output_type": "execute_result",
          "execution_count": 40,
          "data": {
            "text/plain": "RandomForestClassifier(bootstrap\u003dTrue, class_weight\u003d\u0027balanced\u0027,\n            criterion\u003d\u0027gini\u0027, max_depth\u003d6, max_features\u003d\u0027auto\u0027,\n            max_leaf_nodes\u003dNone, min_impurity_decrease\u003d0.0,\n            min_impurity_split\u003dNone, min_samples_leaf\u003d1,\n            min_samples_split\u003d2, min_weight_fraction_leaf\u003d0.0,\n            n_estimators\u003d100, n_jobs\u003dNone, oob_score\u003dFalse,\n            random_state\u003d1337, verbose\u003d2, warm_start\u003dFalse)"
          },
          "metadata": {}
        }
      ]
    },
    {
      "cell_type": "markdown",
      "metadata": {},
      "source": [
        "Build up our result dataset"
      ]
    },
    {
      "cell_type": "markdown",
      "metadata": {},
      "source": [
        "The model is now trained, we can apply it to our test set:"
      ]
    },
    {
      "execution_count": 43,
      "cell_type": "code",
      "metadata": {},
      "source": [
        "clf.score(X_test,y_test)"
      ],
      "outputs": [
        {
          "output_type": "stream",
          "text": "[Parallel(n_jobs\u003d1)]: Using backend SequentialBackend with 1 concurrent workers.\n[Parallel(n_jobs\u003d1)]: Done   1 out of   1 | elapsed:    0.0s remaining:    0.0s\n[Parallel(n_jobs\u003d1)]: Done 100 out of 100 | elapsed:    0.0s finished\n",
          "name": "stderr"
        },
        {
          "output_type": "execute_result",
          "execution_count": 43,
          "data": {
            "text/plain": "0.9333333333333333"
          },
          "metadata": {}
        }
      ]
    },
    {
      "cell_type": "markdown",
      "metadata": {},
      "source": [
        "Let\u0027s have a look at feature importances"
      ]
    },
    {
      "execution_count": 47,
      "cell_type": "code",
      "metadata": {},
      "source": [
        "feature_importances_data \u003d []\nfeatures \u003d X_train.columns\nfor feature_name, feature_importance in zip(features, clf.feature_importances_):\n    feature_importances_data.append({\n        \u0027feature\u0027: feature_name,\n        \u0027importance\u0027: feature_importance\n    })\n\n# Plot the results\nprint(pd.DataFrame(feature_importances_data)\\\n    .set_index(\u0027feature\u0027)\\\n    .sort_values(by\u003d\u0027importance\u0027)[-10::]\\\n    .plot(title\u003d\u0027Top 10 most important variables\u0027,\n          kind\u003d\u0027barh\u0027,\n          figsize\u003d(10, 6),\n          color\u003d\u0027#348ABD\u0027,\n          alpha\u003d0.6,\n          lw\u003d\u00271\u0027,\n          edgecolor\u003d\u0027#348ABD\u0027,\n          grid\u003dFalse,))"
      ],
      "outputs": [
        {
          "output_type": "stream",
          "text": "AxesSubplot(0.125,0.125;0.775x0.755)\n",
          "name": "stdout"
        },
        {
          "output_type": "display_data",
          "data": {
            "text/plain": "\u003cFigure size 720x432 with 1 Axes\u003e",
            "image/png": "[encoded data removed]"
          },
          "metadata": {}
        }
      ]
    },
    {
      "cell_type": "markdown",
      "metadata": {},
      "source": [
        "#### Results"
      ]
    },
    {
      "cell_type": "markdown",
      "metadata": {},
      "source": [
        "You can measure the model\u0027s accuracy:"
      ]
    },
    {
      "execution_count": 45,
      "cell_type": "code",
      "metadata": {},
      "source": [
        "from dataiku.doctor.utils.metrics import mroc_auc_score\ny_test_ser \u003d pd.Series(y_test)\n \nprint (\u0027AUC value:\u0027, mroc_auc_score(y_test_ser, _probas))"
      ],
      "outputs": [
        {
          "output_type": "stream",
          "text": "AUC value: 0.9924242424242423\n",
          "name": "stdout"
        }
      ]
    }
  ]
}